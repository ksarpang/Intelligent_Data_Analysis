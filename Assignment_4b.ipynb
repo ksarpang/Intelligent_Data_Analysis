{
 "cells": [
  {
   "cell_type": "markdown",
   "metadata": {},
   "source": [
    "Homework 4\n",
    "\n",
    "Kishan Sarpangala"
   ]
  },
  {
   "cell_type": "markdown",
   "metadata": {},
   "source": [
    "Question 1"
   ]
  },
  {
   "cell_type": "markdown",
   "metadata": {},
   "source": [
    "Consider the wine datasets given at this LINK.  One dataset at this site is for red wines and the other is for white wines. \n",
    "Data has eleven features and the twelfth column is the target attribute: “wine-quality”. The values of wine-quality range \n",
    "between 0 and 10. The goal of this task is to learn a regression model that predicts “wine-quality” for a given set of features. \n",
    "Consider the white wine dataset and perform the following tasks with this dataset. \n",
    "Use Matlab or Python SKLearn libraries to perform these tasks."
   ]
  },
  {
   "cell_type": "markdown",
   "metadata": {},
   "source": [
    "#Reading in the Libraries "
   ]
  },
  {
   "cell_type": "code",
   "execution_count": null,
   "metadata": {},
   "outputs": [],
   "source": [
    "import matplotlib.pyplot as plt  # to plot graphs\n",
    "import pandas as pd\n",
    "import numpy as np               # for numerical calculations\n",
    "from sklearn.utils import shuffle   # to shuffle data\n",
    "from sklearn.model_selection import cross_val_score\n",
    "from sklearn.cluster import KMeans  # to import decision tree function\n",
    "from sklearn.metrics import accuracy_score       # to import accuracy function\n",
    "from scipy.cluster.vq import vq\n",
    "from sklearn.metrics import silhouette_samples, silhouette_score\n",
    "import matplotlib.cm as cm\n",
    "import seaborn as sns\n",
    "from sklearn.metrics import precision_recall_fscore_support, confusion_matrix\n",
    "import matplotlib.pylab as plt\n",
    "#from sklearn.cross_validation import train_test_split #deprecated module, updated module used below\n",
    "from sklearn.model_selection import train_test_split\n",
    "from sklearn.linear_model import LinearRegression"
   ]
  },
  {
   "cell_type": "markdown",
   "metadata": {},
   "source": [
    "# 1.A\n",
    "#### Do linear regression to learn the single-feature regression models, one model for each of the 11 features. Find the R2 and AIC values for each of these models. Report these values for the models."
   ]
  },
  {
   "cell_type": "markdown",
   "metadata": {},
   "source": [
    "### [Marks 8]"
   ]
  },
  {
   "cell_type": "code",
   "execution_count": null,
   "metadata": {},
   "outputs": [],
   "source": [
    "data_red = pd.read_csv('C:/Users/kisha/Documents/Intelligent_Data_Analysis/Assignment_4/winequality-red.csv', sep = ';')\n",
    "data_red.head()"
   ]
  },
  {
   "cell_type": "code",
   "execution_count": null,
   "metadata": {},
   "outputs": [],
   "source": [
    "# Present the dataset\n",
    "print (data_red.describe())"
   ]
  },
  {
   "cell_type": "code",
   "execution_count": null,
   "metadata": {},
   "outputs": [],
   "source": [
    "# Calculate pairwise correlation matrix to see how \n",
    "#different variables are related to quality\n",
    "print (data_red.corr())"
   ]
  },
  {
   "cell_type": "code",
   "execution_count": null,
   "metadata": {},
   "outputs": [],
   "source": [
    "data_white = pd.read_csv('C:/Users/kisha/Documents/Intelligent_Data_Analysis/Assignment_4/winequality-white.csv', sep = ';')\n",
    "data_white.head()"
   ]
  },
  {
   "cell_type": "code",
   "execution_count": null,
   "metadata": {},
   "outputs": [],
   "source": [
    "# Present the dataset\n",
    "print (data_white.describe())"
   ]
  },
  {
   "cell_type": "code",
   "execution_count": null,
   "metadata": {},
   "outputs": [],
   "source": [
    "# Calculate pairwise correlation matrix to see how \n",
    "#different variables are related to quality\n",
    "print (data_white.corr())"
   ]
  },
  {
   "cell_type": "code",
   "execution_count": null,
   "metadata": {},
   "outputs": [],
   "source": [
    "wine_data = pd.concat([data_red, data_white], axis=0)\n",
    "wine_data.head()"
   ]
  },
  {
   "cell_type": "code",
   "execution_count": null,
   "metadata": {},
   "outputs": [],
   "source": [
    "wine_data.describe()"
   ]
  },
  {
   "cell_type": "markdown",
   "metadata": {},
   "source": [
    "All columns has the same number of data points which is 6497, so it looks like there are no missing data.\n",
    "Are there duplicated rows in the data?"
   ]
  },
  {
   "cell_type": "code",
   "execution_count": null,
   "metadata": {},
   "outputs": [],
   "source": [
    "extra = wine_data[wine_data.duplicated()]\n",
    "extra.shape"
   ]
  },
  {
   "cell_type": "markdown",
   "metadata": {},
   "source": [
    "There are 1179 duplicates. \n",
    "Probably its best to keep these extra data. I think quality ratings for the similar wine were given by different wine tasters."
   ]
  },
  {
   "cell_type": "code",
   "execution_count": null,
   "metadata": {},
   "outputs": [],
   "source": [
    "# Let's proceed to separate 'quality' as the target variable and the rest as features.\n",
    "y = wine_data.quality                  # set 'quality' as target\n",
    "X = wine_data.drop('quality', axis=1)  # rest are features\n",
    "print(y.shape, X.shape)           # check correctness"
   ]
  },
  {
   "cell_type": "code",
   "execution_count": null,
   "metadata": {},
   "outputs": [],
   "source": [
    "# data.hist(figsize=(10,10))\n",
    "sns.set()\n",
    "wine_data.hist(figsize=(10,10), color='purple')\n",
    "plt.show()"
   ]
  },
  {
   "cell_type": "markdown",
   "metadata": {},
   "source": [
    "If you look carefully we will notice that the quality are in discrete numbers & not a continous variable. \n",
    "Most of the wine are rated '5' & '6.5', with much fewer in the other numbers. \n",
    "Let's now look at the correlation among the variables using Correlation chart.\n"
   ]
  },
  {
   "cell_type": "code",
   "execution_count": null,
   "metadata": {},
   "outputs": [],
   "source": [
    "colormap = plt.cm.viridis\n",
    "plt.figure(figsize=(12,12))\n",
    "plt.title('Correlation of Features', y=1.05, size=15)\n",
    "sns.heatmap(wine_data.astype(float).corr(),linewidths=0.1,vmax=1.0, square=True, \n",
    "            linecolor='white', annot=True)"
   ]
  },
  {
   "cell_type": "markdown",
   "metadata": {},
   "source": [
    "Observations:\n",
    "Alcohol has the highest correlation with wine quality, followed by citric acid, Sulpahte in general (free sulphar dioxide, sulphates), pH \n",
    "Let's use all the features in the classifiers."
   ]
  },
  {
   "cell_type": "code",
   "execution_count": null,
   "metadata": {},
   "outputs": [],
   "source": [
    "# Create a Pandas Excel writer using XlsxWriter as the engine.\n",
    "writer = pd.ExcelWriter('wine_data.xlsx', engine='xlsxwriter')\n",
    "\n",
    "# Convert the dataframe to an XlsxWriter Excel object.\n",
    "wine_data.to_excel(writer, sheet_name='Sheet1')\n",
    "\n",
    "# Close the Pandas Excel writer and output the Excel file.\n",
    "writer.save()"
   ]
  },
  {
   "cell_type": "code",
   "execution_count": null,
   "metadata": {},
   "outputs": [],
   "source": [
    "wine_data['alcohol'].value_counts().head(10).plot.bar()"
   ]
  },
  {
   "cell_type": "code",
   "execution_count": null,
   "metadata": {},
   "outputs": [],
   "source": [
    "#Split the data into training and testing sets\n",
    "Features = wine_data[list(wine_data.columns)[:-1]]\n",
    "Quality = wine_data['quality']\n",
    "Features_train, Features_test, Quality_train, Quality_test = train_test_split(Features, Quality)"
   ]
  },
  {
   "cell_type": "code",
   "execution_count": null,
   "metadata": {},
   "outputs": [],
   "source": [
    "regressor = LinearRegression()\n",
    "regressor.fit(Features_train, Quality_train)"
   ]
  },
  {
   "cell_type": "code",
   "execution_count": null,
   "metadata": {},
   "outputs": [],
   "source": [
    "#Evaluate the predictions of the model\n",
    "Quality_predictions = regressor.predict(Features_test)"
   ]
  },
  {
   "cell_type": "code",
   "execution_count": null,
   "metadata": {},
   "outputs": [],
   "source": [
    "import statsmodels.formula.api as sm\n",
    "\n",
    "model1=sm.OLS(Quality_train, Features_train)\n",
    "result = model1.fit()\n",
    "result.summary()"
   ]
  },
  {
   "cell_type": "code",
   "execution_count": null,
   "metadata": {},
   "outputs": [],
   "source": [
    "plt.scatter(Quality_test, Quality_predictions)\n",
    "plt.xlabel('True Quality')\n",
    "plt.ylabel('Predicted Quality')\n",
    "plt.title('Predicted Quality Against True Quality ')\n",
    "plt.show()"
   ]
  },
  {
   "cell_type": "code",
   "execution_count": null,
   "metadata": {},
   "outputs": [],
   "source": [
    "import math  \n",
    "# Have a look at R sq to give an idea of the fit \n",
    "print('R sq: ',regressor.score(Features_train, Quality_train))\n",
    "\n",
    "# and so the correlation is..\n",
    "print('Correlation: ', math.sqrt(regressor.score(Features_train, Quality_train)))"
   ]
  },
  {
   "cell_type": "markdown",
   "metadata": {},
   "source": [
    "#Now that's what I call a bad R sq and correlation!!! probably a negative correlation ?? "
   ]
  },
  {
   "cell_type": "code",
   "execution_count": null,
   "metadata": {},
   "outputs": [],
   "source": [
    "from sklearn.feature_selection import RFE\n",
    "from sklearn.linear_model import LogisticRegression"
   ]
  },
  {
   "cell_type": "code",
   "execution_count": null,
   "metadata": {},
   "outputs": [],
   "source": [
    "rfe = RFE(regressor, 3)\n",
    "fit = rfe.fit(Features_train, Quality_train)\n",
    "print(\"Num Features: %s\" % (fit.n_features_))\n",
    "print(\"Selected Features: %s\" % (fit.support_))\n",
    "print(\"Feature Ranking: %s\" % (fit.ranking_))"
   ]
  },
  {
   "cell_type": "markdown",
   "metadata": {},
   "source": [
    "#chlorides density sulphates"
   ]
  },
  {
   "cell_type": "code",
   "execution_count": null,
   "metadata": {},
   "outputs": [],
   "source": [
    "feature_column = list(Features)"
   ]
  },
  {
   "cell_type": "code",
   "execution_count": null,
   "metadata": {},
   "outputs": [],
   "source": [
    "Features = wine_data[list(wine_data.columns)[:-1]]\n",
    "Quality = wine_data['quality']\n",
    "Features_train, Features_test, Quality_train, Quality_test = train_test_split(Features, Quality)\n",
    "list(Features)"
   ]
  },
  {
   "cell_type": "code",
   "execution_count": null,
   "metadata": {},
   "outputs": [],
   "source": [
    "regressor = LinearRegression()\n",
    "regressor_list = []\n",
    "model_list = []\n",
    "\n",
    "for feature in list(Features):\n",
    "    feature_col = [feature]\n",
    "    regressor_list.append(regressor.fit(Features_train[feature_col], Quality_train))\n",
    "    model_list.append(sm.OLS(Quality_train, Features_train[feature_col]))  "
   ]
  },
  {
   "cell_type": "code",
   "execution_count": null,
   "metadata": {},
   "outputs": [],
   "source": [
    "len(model_list)"
   ]
  },
  {
   "cell_type": "code",
   "execution_count": null,
   "metadata": {},
   "outputs": [],
   "source": [
    "len(regressor_list)"
   ]
  },
  {
   "cell_type": "code",
   "execution_count": null,
   "metadata": {},
   "outputs": [],
   "source": [
    "results=[]\n",
    "for model in model_list:\n",
    "    results.append(model.fit())"
   ]
  },
  {
   "cell_type": "code",
   "execution_count": null,
   "metadata": {},
   "outputs": [],
   "source": [
    "#model1=sm.OLS(Quality_train, Features_train)\n",
    "#result = model1.fit()\n",
    "#print(type(results[0]))\n",
    "#print(results[0].rsquared)\n",
    "#print(results[0].aic)\n",
    "metrics_rsquared = []\n",
    "metrics_aic = []\n",
    "for result in results:\n",
    "    metrics_rsquared.append(result.rsquared)\n",
    "    metrics_aic.append(result.aic)"
   ]
  },
  {
   "cell_type": "code",
   "execution_count": null,
   "metadata": {},
   "outputs": [],
   "source": [
    "metrics_rsquared"
   ]
  },
  {
   "cell_type": "code",
   "execution_count": null,
   "metadata": {},
   "outputs": [],
   "source": [
    "columns = [1,2,3,4,5,6,7,8,9,10,11]\n",
    "#plt.figure(columns,metrics_rsquared)\n",
    "plt.figure(figsize=(20,10))\n",
    "plt.plot(list(Features),metrics_rsquared)\n",
    "#plt.plot(list(Features),metrics_aic)\n",
    "#plt.show()"
   ]
  },
  {
   "cell_type": "code",
   "execution_count": null,
   "metadata": {},
   "outputs": [],
   "source": [
    "plt.figure(figsize=(20,10))\n",
    "plt.plot(list(Features),metrics_aic)\n",
    "#plt.show()"
   ]
  },
  {
   "cell_type": "markdown",
   "metadata": {},
   "source": [
    "# 1.b\n",
    "#### Select the model with the highest R2 value, combine with its feature other features, one at a time, and thus generate all bivariate regression models (models containing two features). One of these two features is from the selected single-feature model and the other is from one of the remaining 10 features."
   ]
  },
  {
   "cell_type": "code",
   "execution_count": null,
   "metadata": {},
   "outputs": [],
   "source": [
    "#it is observed that alcohol have highest RSquared value. Selecting alcohol feature model\n",
    "selected_model = model_list[10]"
   ]
  },
  {
   "cell_type": "code",
   "execution_count": null,
   "metadata": {},
   "outputs": [],
   "source": [
    "bivariate_regressor = LinearRegression()\n",
    "bivariate_regressor_list = []\n",
    "bivariate_model_list = []\n",
    "\n",
    "bivariate_features = list(Features)[0:10]\n",
    "\n",
    "for feature in list(bivariate_features):\n",
    "    feature_col = [feature,'alcohol']\n",
    "    bivariate_regressor_list.append(bivariate_regressor.fit(Features_train[feature_col], Quality_train))\n",
    "    bivariate_model_list.append(sm.OLS(Quality_train, Features_train[feature_col]))  "
   ]
  },
  {
   "cell_type": "code",
   "execution_count": null,
   "metadata": {},
   "outputs": [],
   "source": [
    "bivariate_features"
   ]
  },
  {
   "cell_type": "code",
   "execution_count": null,
   "metadata": {},
   "outputs": [],
   "source": [
    "bivariate_results=[]\n",
    "for model in bivariate_model_list:\n",
    "    bivariate_results.append(model.fit())"
   ]
  },
  {
   "cell_type": "code",
   "execution_count": null,
   "metadata": {},
   "outputs": [],
   "source": [
    "bivariate_metrics_rsquared = []\n",
    "bivariate_metrics_aic = []\n",
    "for result in bivariate_results:\n",
    "    bivariate_metrics_rsquared.append(result.rsquared)\n",
    "    bivariate_metrics_aic.append(result.aic)"
   ]
  },
  {
   "cell_type": "code",
   "execution_count": null,
   "metadata": {},
   "outputs": [],
   "source": [
    "plt.figure(figsize=(20,10))\n",
    "plt.plot(list(bivariate_features),bivariate_metrics_rsquared)"
   ]
  },
  {
   "cell_type": "code",
   "execution_count": null,
   "metadata": {},
   "outputs": [],
   "source": [
    "plt.figure(figsize=(20,10))\n",
    "plt.plot(list(bivariate_features),bivariate_metrics_aic)"
   ]
  },
  {
   "cell_type": "markdown",
   "metadata": {},
   "source": [
    "# 1.c\n",
    "### Select the bivariate model with the highest R2 value as the Best model at this stage. Combine a third feature from the remaining nine features with this selected bivariate model to build (and then select the best) 3-feature regression models. Report the R2 and AIC values of all these models. "
   ]
  },
  {
   "cell_type": "code",
   "execution_count": null,
   "metadata": {},
   "outputs": [],
   "source": [
    "len(bivariate_model_list)"
   ]
  },
  {
   "cell_type": "code",
   "execution_count": null,
   "metadata": {},
   "outputs": [],
   "source": [
    "#it is observed that alcohol with density have highest RSquared value. Selecting alcohol feature model\n",
    "selected_bivariate_model = bivariate_model_list[7]"
   ]
  },
  {
   "cell_type": "code",
   "execution_count": null,
   "metadata": {},
   "outputs": [],
   "source": [
    "bivariate_features[0:7]+bivariate_features[8:10]"
   ]
  },
  {
   "cell_type": "code",
   "execution_count": null,
   "metadata": {},
   "outputs": [],
   "source": [
    "multivariate_regressor = LinearRegression()\n",
    "multivariate_regressor_list = []\n",
    "multivariate_model_list = []\n",
    "\n",
    "multivariate_features = bivariate_features[0:7]+bivariate_features[8:10]\n",
    "\n",
    "for feature in list(multivariate_features):\n",
    "    feature_col = ['density',feature,'alcohol']\n",
    "    multivariate_regressor_list.append(multivariate_regressor.fit(Features_train[feature_col], Quality_train))\n",
    "    multivariate_model_list.append(sm.OLS(Quality_train, Features_train[feature_col]))  "
   ]
  },
  {
   "cell_type": "code",
   "execution_count": null,
   "metadata": {},
   "outputs": [],
   "source": [
    "multivariate_results=[]\n",
    "for model in multivariate_model_list:\n",
    "    multivariate_results.append(model.fit())"
   ]
  },
  {
   "cell_type": "code",
   "execution_count": null,
   "metadata": {},
   "outputs": [],
   "source": [
    "multivariate_metrics_rsquared = []\n",
    "multivariate_metrics_aic = []\n",
    "for result in multivariate_results:\n",
    "    multivariate_metrics_rsquared.append(result.rsquared)\n",
    "    multivariate_metrics_aic.append(result.aic)"
   ]
  },
  {
   "cell_type": "code",
   "execution_count": null,
   "metadata": {},
   "outputs": [],
   "source": [
    "plt.figure(figsize=(20,10))\n",
    "plt.plot(list(multivariate_features),multivariate_metrics_rsquared)"
   ]
  },
  {
   "cell_type": "code",
   "execution_count": null,
   "metadata": {},
   "outputs": [],
   "source": [
    "plt.figure(figsize=(20,10))\n",
    "plt.plot(list(multivariate_features),multivariate_metrics_aic)"
   ]
  },
  {
   "cell_type": "markdown",
   "metadata": {},
   "source": [
    "Algorithm\n",
    "\n",
    "1. Take the feature list\n",
    "2. Take each feature to a sub list feature_sub\n",
    "3. Define a linear regression model\n",
    "4. Fit the training data for the attributes in feature_sub and the class value to the defined regression model\n",
    "   Append each of this model to a list.\n",
    "5. Find OLS for the attributes in feature_sub and the class value \n",
    "6. For each of the model in the model list find model fit and save it to result\n",
    "7. For each of the result find highest rsquared and aic\n",
    "8. remove the highest rsquared from the feature list\n",
    "9. add highest rsquared attribute to the sub list feature_sub\n",
    "10. call the function again with the new feature list and the new sub list feature_sub"
   ]
  },
  {
   "cell_type": "code",
   "execution_count": null,
   "metadata": {},
   "outputs": [],
   "source": [
    "data_gaussian= pd.read_csv('C:/Users/kisha/Documents/Intelligent_Data_Analysis/Assignment_4/HW4GaussianClustersData.csv')\n",
    "data_gaussian.head()\n"
   ]
  },
  {
   "attachments": {
    "Fig13.png": {
     "image/png": "[encoded data removed]"
    }
   },
   "cell_type": "markdown",
   "metadata": {},
   "source": [
    "BIC\n",
    "\n",
    "There is another commonly used criterion for comparing regression models. It is called \"Bayesian Information Criterion\" It looks very similar to AIC but is derived very differently. It is trying to find the model that maximizes the poetrior probebaility of the model given the data.\n",
    "\n",
    "![Fig13.png](attachment:Fig13.png)\n",
    "\n",
    "\n",
    "Here $\\sigma^2$ is the variance of the regression model that includes all the available variables in the dataset.\n",
    "\n",
    "It has three sum terms. The first is the same as in AIC and SBIC. The second and third are more complex are more grounded in statistical and information theoretic criteria.\n",
    "\n",
    "We still prefer the model with the lowest value for the BIC criterion.\n",
    "\n",
    "sklearn library computes the BIC criterion for the regression models. \n",
    "\n",
    "k = number of variables\n",
    "n = number of observations\n",
    "BIC = n*ln(sse/n) + k*ln(n)\n",
    "\n",
    "For the five models that we have crerated the BIC values are:\n",
    "\n",
    "------\n",
    "-------\n"
   ]
  },
  {
   "cell_type": "code",
   "execution_count": null,
   "metadata": {},
   "outputs": [],
   "source": [
    "def compute_bic(kmeans,X,c):\n",
    "   \n",
    "    n=X.shape[0];\n",
    "    d=X.shape[1];\n",
    "    print (c,n, d);\n",
    "\n",
    "    BIC = n*math.log(kmeans.inertia_/n) + math.log(n)*c*(d+1)\n",
    "    \n",
    "    return(BIC)"
   ]
  },
  {
   "cell_type": "code",
   "execution_count": null,
   "metadata": {},
   "outputs": [],
   "source": [
    "from scipy.spatial import distance\n",
    "def plotBIC(x, y):\n",
    "    # plotting the points\n",
    "    plt.plot(x, y)\n",
    "\n",
    "    # naming the x axis\n",
    "    plt.xlabel('No of clusters')\n",
    "    # naming the y axis\n",
    "    plt.ylabel('BIC value')\n",
    "\n",
    "    # giving a title to my graph\n",
    "    plt.title('Graph showing BIC vs No of clusters')\n",
    "    \n",
    "    # function to show the plot\n",
    "    plt.show()\n",
    "    \n",
    "def compute_bic1(kmeans,X):\n",
    "    \"\"\"\n",
    "    Computes the BIC metric for a given clusters\n",
    "\n",
    "    Parameters:\n",
    "    -----------------------------------------\n",
    "    kmeans:  List of clustering object from scikit learn\n",
    "\n",
    "    X     :  multidimension np array of data points\n",
    "\n",
    "    Returns:\n",
    "    -----------------------------------------\n",
    "    BIC value\n",
    "    \"\"\"\n",
    "    # assign centers and labels\n",
    "    centers = [kmeans.cluster_centers_]\n",
    "    labels  = kmeans.labels_\n",
    "    #number of clusters\n",
    "    m = kmeans.n_clusters\n",
    "    # size of the clusters\n",
    "    n = np.bincount(labels)\n",
    "    #size of data set\n",
    "    N, d = X.shape\n",
    "\n",
    "    #compute variance for all clusters beforehand\n",
    "    cl_var = (1.0 / (N - m) / d) * sum([sum(distance.cdist(X[np.where(labels == i)], [centers[0][i]], \n",
    "             'euclidean')**2) for i in range(m)])\n",
    "\n",
    "    const_term = 0.5 * m * np.log(N) * (d+1)\n",
    "    \n",
    "    BIC = n*math.log(SSE/n) + math.log(n)*c*(d+1)\n",
    "    \n",
    "    \n",
    "    return(BIC)\n"
   ]
  },
  {
   "cell_type": "code",
   "execution_count": null,
   "metadata": {},
   "outputs": [],
   "source": []
  },
  {
   "cell_type": "code",
   "execution_count": null,
   "metadata": {},
   "outputs": [],
   "source": [
    "import sys\n",
    "def find_best_model(feature_values):\n",
    "    best_aic = sys.maxsize\n",
    "    iter_aic = sys.maxsize-1\n",
    "    best_features = []\n",
    "    feature_col = []\n",
    "    temp_features = feature_values\n",
    "    \n",
    "    regressor = LinearRegression()\n",
    "    i = 1\n",
    "    while iter_aic < best_aic:\n",
    "        \n",
    "        #print(\"iteration \"+str(i)+\" -> \"+str(iter_aic))\n",
    "        \n",
    "        best_features = feature_col\n",
    "        \n",
    "        #print(\"iteration \"+str(i)+\" -> iteraic: \"+str(iter_aic)+\" bestaic:\"+str(best_aic))\n",
    "        best_aic = iter_aic\n",
    "        iter_aic = sys.maxsize\n",
    "        temp_features = [x for x in feature_values if x not in best_features]\n",
    "        \n",
    "        print(\"iteration \"+str(i)+\" -> \"+ str(best_features))\n",
    "        for feature in temp_features:\n",
    "            \n",
    "            feature_col = best_features+[feature]\n",
    "          \n",
    "            regressor_list.append(regressor.fit(Features_train[feature_col], Quality_train))\n",
    "\n",
    "            model = sm.OLS(Quality_train, Features_train[feature_col])\n",
    "\n",
    "            result = model.fit()\n",
    "\n",
    "            if result.aic < iter_aic :\n",
    "                best_model = model\n",
    "                best_results = results\n",
    "                iter_aic = result.aic\n",
    "        i=i+1\n",
    "    \n",
    "    return best_features"
   ]
  },
  {
   "cell_type": "code",
   "execution_count": null,
   "metadata": {},
   "outputs": [],
   "source": [
    "rs = find_best_model(list(Features)[0:10])"
   ]
  },
  {
   "cell_type": "code",
   "execution_count": null,
   "metadata": {},
   "outputs": [],
   "source": [
    "\n",
    "\n",
    "data_g = pd.read_csv('C:/Users/kisha/Documents/Intelligent_Data_Analysis/Assignment_4/HW4GaussianClustersData.csv')\n",
    "\n",
    "data_g.head()\n"
   ]
  },
  {
   "cell_type": "markdown",
   "metadata": {},
   "source": [
    "#Need a better way to print than the one below. Will figure it out eventually. Kiran might have inputs \n",
    "Don't run Below code. Hence commented out check the link. "
   ]
  },
  {
   "cell_type": "code",
   "execution_count": null,
   "metadata": {},
   "outputs": [],
   "source": [
    "#plot data with seaborn (don't add a legend yet)\n",
    "###facet = sns.lmplot(data=data_g, x='X', y='Y', \n",
    "###                   fit_reg=False, legend=False)\n",
    "\n",
    "#add a legend\n",
    "###leg = facet.ax.legend(bbox_to_anchor=[1, 0.75],\n",
    "###                         title=\"label\", fancybox=True)\n",
    "#change colors of labels\n",
    "###for i, text in enumerate(leg.get_texts()):\n",
    "###    plt.setp(text, color = customPalette[i])"
   ]
  },
  {
   "cell_type": "markdown",
   "metadata": {},
   "source": [
    "https://nikkimarinsek.com/blog/7-ways-to-label-a-cluster-plot-python"
   ]
  },
  {
   "cell_type": "code",
   "execution_count": null,
   "metadata": {},
   "outputs": [],
   "source": [
    "f1 = data_g['X'].values\n",
    "f2 = data_g['Y'].values\n",
    "X = np.array(list(zip(f1, f2)))\n",
    "plt.figure(figsize=(20,10))\n",
    "plt.scatter(f1, f2, c='blue', s=7)\n"
   ]
  },
  {
   "cell_type": "markdown",
   "metadata": {},
   "source": [
    "https://mubaris.com/posts/kmeans-clustering/"
   ]
  },
  {
   "cell_type": "code",
   "execution_count": null,
   "metadata": {},
   "outputs": [],
   "source": [
    "# Euclidean Distance Caculator\n",
    "def dist(a, b, ax=1):\n",
    "    return np.linalg.norm(a - b, axis=ax)"
   ]
  },
  {
   "cell_type": "code",
   "execution_count": null,
   "metadata": {},
   "outputs": [],
   "source": [
    "\n",
    "# Number of clusters\n",
    "###k = ['3']\n",
    "###C = []\n",
    "###for k_value in list(k):\n",
    "  # X coordinates of random centroids\n",
    "###  C_x = np.random.randint(0, np.max(X)-20, size=k_value)\n",
    "  # Y coordinates of random centroids\n",
    "###  C_y = np.random.randint(0, np.max(X)-20, size=k_value)\n",
    "###  C.append(np.array(list(zip(C_x, C_y)), dtype=np.float32))\n",
    "  "
   ]
  },
  {
   "cell_type": "code",
   "execution_count": null,
   "metadata": {},
   "outputs": [],
   "source": [
    "# Plotting along with the Centroids\n",
    "###plt.scatter(f1, f2, c='#050505', s=7)\n",
    "###plt.scatter(C_x, C_y, marker='*', s=200, c='g')"
   ]
  },
  {
   "cell_type": "code",
   "execution_count": null,
   "metadata": {},
   "outputs": [],
   "source": [
    "# Number of clusters\n",
    "k = 3\n",
    "# X coordinates of random centroids\n",
    "C_x = np.random.randint(0, np.max(X)-20, size=k)\n",
    "# Y coordinates of random centroids\n",
    "C_y = np.random.randint(0, np.max(X)-20, size=k)\n",
    "C = np.array(list(zip(C_x, C_y)), dtype=np.float32)\n",
    "print(C)"
   ]
  },
  {
   "cell_type": "code",
   "execution_count": null,
   "metadata": {},
   "outputs": [],
   "source": [
    "# Plotting along with the Centroids\n",
    "plt.scatter(f1, f2, c='#050505', s=7)\n",
    "plt.scatter(C_x, C_y, marker='*', s=200, c='g')"
   ]
  },
  {
   "cell_type": "code",
   "execution_count": null,
   "metadata": {},
   "outputs": [],
   "source": [
    "from copy import deepcopy\n",
    "# To store the value of centroids when it updates\n",
    "\n",
    "C_old = np.zeros(C.shape)\n",
    "# Cluster Lables(0, 1, 2)\n",
    "clusters = np.zeros(len(X))\n",
    "# Error func. - Distance between new centroids and old centroids\n",
    "error = dist(C, C_old, None)\n",
    "# Loop will run till the error becomes zero\n",
    "while error != 0:\n",
    "    # Assigning each value to its closest cluster\n",
    "    for i in range(len(X)):\n",
    "        distances = dist(X[i], C)\n",
    "        cluster = np.argmin(distances)\n",
    "        clusters[i] = cluster\n",
    "    # Storing the old centroid values\n",
    "    C_old = deepcopy(C)\n",
    "    # Finding the new centroids by taking the average value\n",
    "    for i in range(k):\n",
    "        points = [X[j] for j in range(len(X)) if clusters[j] == i]\n",
    "        C[i] = np.mean(points, axis=0)\n",
    "    error = dist(C, C_old, None)"
   ]
  },
  {
   "cell_type": "code",
   "execution_count": null,
   "metadata": {},
   "outputs": [],
   "source": [
    "colors = ['r', 'g', 'b', 'y', 'c', 'm']\n",
    "fig, ax = plt.subplots()\n",
    "for i in range(k):\n",
    "        points = np.array([X[j] for j in range(len(X)) if clusters[j] == i])\n",
    "        ax.scatter(points[:, 0], points[:, 1], s=7, c=colors[i])\n",
    "ax.scatter(C[:, 0], C[:, 1], marker='*', s=200, c='#050505')"
   ]
  },
  {
   "cell_type": "code",
   "execution_count": null,
   "metadata": {},
   "outputs": [],
   "source": [
    "# Number of clusters\n",
    "k = 5\n",
    "# X coordinates of random centroids\n",
    "C_x = np.random.randint(0, np.max(X)-20, size=k)\n",
    "# Y coordinates of random centroids\n",
    "C_y = np.random.randint(0, np.max(X)-20, size=k)\n",
    "C = np.array(list(zip(C_x, C_y)), dtype=np.float32)\n",
    "print(C)"
   ]
  },
  {
   "cell_type": "code",
   "execution_count": null,
   "metadata": {},
   "outputs": [],
   "source": [
    "# Plotting along with the Centroids\n",
    "plt.scatter(f1, f2, c='#050505', s=7)\n",
    "plt.scatter(C_x, C_y, marker='*', s=200, c='g')"
   ]
  },
  {
   "cell_type": "code",
   "execution_count": null,
   "metadata": {},
   "outputs": [],
   "source": [
    "from copy import deepcopy\n",
    "#To store the value of centroids when it updates\n",
    "\n",
    "C_old = np.zeros(C.shape)\n",
    "#Cluster Lables(0, 1, 2)\n",
    "clusters = np.zeros(len(X))\n",
    "#Error func. - Distance between new centroids and old centroids\n",
    "error = dist(C, C_old, None)\n",
    "#Loop will run till the error becomes zero\n",
    "while error != 0:\n",
    "    # Assigning each value to its closest cluster\n",
    "    for i in range(len(X)):\n",
    "        distances = dist(X[i], C)\n",
    "        cluster = np.argmin(distances)\n",
    "        clusters[i] = cluster\n",
    "    # Storing the old centroid values\n",
    "    C_old = deepcopy(C)\n",
    "    # Finding the new centroids by taking the average value\n",
    "    for i in range(k):\n",
    "        points = [X[j] for j in range(len(X)) if clusters[j] == i]\n",
    "        C[i] = np.mean(points, axis=0)\n",
    "    error = dist(C, C_old, None)"
   ]
  },
  {
   "cell_type": "code",
   "execution_count": null,
   "metadata": {},
   "outputs": [],
   "source": [
    "colors = ['r', 'g', 'b', 'y', 'c', 'm']\n",
    "fig, ax = plt.subplots()\n",
    "for i in range(k):\n",
    "        points = np.array([X[j] for j in range(len(X)) if clusters[j] == i])\n",
    "        ax.scatter(points[:, 0], points[:, 1], s=7, c=colors[i])\n",
    "ax.scatter(C[:, 0], C[:, 1], marker='*', s=200, c='#050505')"
   ]
  },
  {
   "cell_type": "code",
   "execution_count": null,
   "metadata": {},
   "outputs": [],
   "source": [
    "# Number of clusters\n",
    "k = 7\n",
    "# X coordinates of random centroids\n",
    "C_x = np.random.randint(0, np.max(X)-20, size=k)\n",
    "# Y coordinates of random centroids\n",
    "C_y = np.random.randint(0, np.max(X)-20, size=k)\n",
    "C = np.array(list(zip(C_x, C_y)), dtype=np.float32)\n",
    "print(C)"
   ]
  },
  {
   "cell_type": "code",
   "execution_count": null,
   "metadata": {},
   "outputs": [],
   "source": [
    "# Plotting along with the Centroids\n",
    "plt.scatter(f1, f2, c='#050505', s=7)\n",
    "plt.scatter(C_x, C_y, marker='*', s=200, c='g')"
   ]
  },
  {
   "cell_type": "markdown",
   "metadata": {},
   "source": [
    "from copy import deepcopy\n",
    "#To store the value of centroids when it updates\n",
    "\n",
    "C_old = np.zeros(C.shape)\n",
    "#Cluster Lables(0, 1, 2)\n",
    "clusters = np.zeros(len(X))\n",
    "#Error func. - Distance between new centroids and old centroids\n",
    "error = dist(C, C_old, None)\n",
    "#Loop will run till the error becomes zero\n",
    "while error != 0:\n",
    "    # Assigning each value to its closest cluster\n",
    "    for i in range(len(X)):\n",
    "        distances = dist(X[i], C)\n",
    "        cluster = np.argmin(distances)\n",
    "        clusters[i] = cluster\n",
    "    # Storing the old centroid values\n",
    "    C_old = deepcopy(C)\n",
    "    # Finding the new centroids by taking the average value\n",
    "    for i in range(k):\n",
    "        points = [X[j] for j in range(len(X)) if clusters[j] == i]\n",
    "        C[i] = np.mean(points, axis=0)\n",
    "    error = dist(C, C_old, None)"
   ]
  },
  {
   "cell_type": "markdown",
   "metadata": {},
   "source": [
    "Run the k-means algorithm for k = 3, 5, 7, 9, 11, 13, 15, 17 and 19. Plot the total SSE and BIC values for the above values of k. What is the best number of clusters for this dataset? How did you find the best number of clusters, briefly explain."
   ]
  },
  {
   "cell_type": "code",
   "execution_count": null,
   "metadata": {},
   "outputs": [],
   "source": [
    "cc = [3, 5, 7, 9, 11, 13, 15, 17, 19]\n",
    "X"
   ]
  },
  {
   "cell_type": "code",
   "execution_count": null,
   "metadata": {},
   "outputs": [],
   "source": [
    "from sklearn.cluster import KMeans\n",
    "import numpy as np\n",
    "c = {}\n",
    "sse = {}\n",
    "bic = {}\n",
    "kmeans_list = {}\n",
    "\n",
    "for k in cc:\n",
    "    kmeans = KMeans(n_clusters=k, random_state=0).fit(X)\n",
    "    kmeans_list[k] = kmeans\n",
    "    c[k] = kmeans.cluster_centers_\n",
    "    sse[k] = kmeans.inertia_\n",
    "    bic[k] = compute_bic(kmeans,X,k)\n",
    "    #print(compute_bic(kmeans,X))\n",
    "#kmeans.labels_\n",
    "#kmeans.predict([[0, 0], [4, 4]])\n"
   ]
  },
  {
   "cell_type": "code",
   "execution_count": null,
   "metadata": {},
   "outputs": [],
   "source": [
    "sse"
   ]
  },
  {
   "cell_type": "code",
   "execution_count": null,
   "metadata": {},
   "outputs": [],
   "source": [
    "bic"
   ]
  },
  {
   "cell_type": "code",
   "execution_count": null,
   "metadata": {},
   "outputs": [],
   "source": [
    "plt.figure(figsize=(20,10))\n",
    "plt.plot(list(sse.keys()),list(sse.values()))"
   ]
  },
  {
   "cell_type": "code",
   "execution_count": null,
   "metadata": {},
   "outputs": [],
   "source": [
    "plt.figure(figsize=(20,10))\n",
    "plt.plot(list(bic.keys()),list(bic.values()))"
   ]
  },
  {
   "cell_type": "code",
   "execution_count": null,
   "metadata": {},
   "outputs": [],
   "source": [
    "best_kmeans = kmeans_list[11]\n",
    "y_kmeans = best_kmeans.predict(X)\n",
    "plt.figure(figsize=(20,10))\n",
    "plt.scatter(X[:, 0], X[:, 1], c=y_kmeans, s=50, cmap='viridis')"
   ]
  },
  {
   "cell_type": "code",
   "execution_count": null,
   "metadata": {
    "scrolled": true
   },
   "outputs": [],
   "source": [
    "from __future__ import print_function\n",
    "\n",
    "from sklearn.datasets import make_blobs\n",
    "from sklearn.cluster import KMeans\n",
    "from sklearn.metrics import silhouette_samples, silhouette_score\n",
    "\n",
    "import matplotlib.pyplot as plt\n",
    "import matplotlib.cm as cm\n",
    "import numpy as np\n",
    "\n",
    "print(__doc__)\n",
    "\n",
    "# Generating the sample data from make_blobs\n",
    "# This particular setting has one distinct cluster and 3 clusters placed close\n",
    "# together.\n",
    "'''X, y = make_blobs(n_samples=500,\n",
    "                  n_features=2,\n",
    "                  centers=4,\n",
    "                  cluster_std=1,\n",
    "                  center_box=(-10.0, 10.0),\n",
    "                  shuffle=True,\n",
    "                  random_state=1)  # For reproducibility\n",
    "\n",
    "range_n_clusters = [2, 3, 4, 5, 6]\n",
    "'''\n",
    "range_n_clusters = [11]\n",
    "for n_clusters in range_n_clusters:\n",
    "    # Create a subplot with 1 row and 2 columns\n",
    "    fig, (ax1, ax2) = plt.subplots(1, 2)\n",
    "    fig.set_size_inches(18, 7)\n",
    "\n",
    "    # The 1st subplot is the silhouette plot\n",
    "    # The silhouette coefficient can range from -1, 1 but in this example all\n",
    "    # lie within [-0.1, 1]\n",
    "    ax1.set_xlim([-0.1, 1])\n",
    "    # The (n_clusters+1)*10 is for inserting blank space between silhouette\n",
    "    # plots of individual clusters, to demarcate them clearly.\n",
    "    ax1.set_ylim([0, len(X) + (n_clusters + 1) * 10])\n",
    "\n",
    "    # Initialize the clusterer with n_clusters value and a random generator\n",
    "    # seed of 10 for reproducibility.\n",
    "    clusterer = KMeans(n_clusters=n_clusters, random_state=10)\n",
    "    cluster_labels = clusterer.fit_predict(X)\n",
    "\n",
    "    # The silhouette_score gives the average value for all the samples.\n",
    "    # This gives a perspective into the density and separation of the formed\n",
    "    # clusters\n",
    "    silhouette_avg = silhouette_score(X, cluster_labels)\n",
    "    print(\"For n_clusters =\", n_clusters,\n",
    "          \"The average silhouette_score is :\", silhouette_avg)\n",
    "\n",
    "    # Compute the silhouette scores for each sample\n",
    "    sample_silhouette_values = silhouette_samples(X, cluster_labels)\n",
    "\n",
    "    y_lower = 10\n",
    "    for i in range(n_clusters):\n",
    "        # Aggregate the silhouette scores for samples belonging to\n",
    "        # cluster i, and sort them\n",
    "        ith_cluster_silhouette_values = \\\n",
    "            sample_silhouette_values[cluster_labels == i]\n",
    "\n",
    "        ith_cluster_silhouette_values.sort()\n",
    "\n",
    "        size_cluster_i = ith_cluster_silhouette_values.shape[0]\n",
    "        y_upper = y_lower + size_cluster_i\n",
    "\n",
    "        color = cm.nipy_spectral(float(i) / n_clusters)\n",
    "        ax1.fill_betweenx(np.arange(y_lower, y_upper),\n",
    "                          0, ith_cluster_silhouette_values,\n",
    "                          facecolor=color, edgecolor=color, alpha=0.7)\n",
    "\n",
    "        # Label the silhouette plots with their cluster numbers at the middle\n",
    "        ax1.text(-0.05, y_lower + 0.5 * size_cluster_i, str(i))\n",
    "\n",
    "        # Compute the new y_lower for next plot\n",
    "        y_lower = y_upper + 10  # 10 for the 0 samples\n",
    "\n",
    "    ax1.set_title(\"The silhouette plot for the various clusters.\")\n",
    "    ax1.set_xlabel(\"The silhouette coefficient values\")\n",
    "    ax1.set_ylabel(\"Cluster label\")\n",
    "\n",
    "    # The vertical line for average silhouette score of all the values\n",
    "    ax1.axvline(x=silhouette_avg, color=\"red\", linestyle=\"--\")\n",
    "\n",
    "    ax1.set_yticks([])  # Clear the yaxis labels / ticks\n",
    "    ax1.set_xticks([-0.1, 0, 0.2, 0.4, 0.6, 0.8, 1])\n",
    "\n",
    "    # 2nd Plot showing the actual clusters formed\n",
    "    colors = cm.nipy_spectral(cluster_labels.astype(float) / n_clusters)\n",
    "    ax2.scatter(X[:, 0], X[:, 1], marker='.', s=30, lw=0, alpha=0.7,\n",
    "                c=colors, edgecolor='k')\n",
    "\n",
    "    # Labeling the clusters\n",
    "    centers = clusterer.cluster_centers_\n",
    "    # Draw white circles at cluster centers\n",
    "    ax2.scatter(centers[:, 0], centers[:, 1], marker='o',\n",
    "                c=\"white\", alpha=1, s=200, edgecolor='k')\n",
    "\n",
    "    for i, c in enumerate(centers):\n",
    "        ax2.scatter(c[0], c[1], marker='$%d$' % i, alpha=1,\n",
    "                    s=50, edgecolor='k')\n",
    "\n",
    "    ax2.set_title(\"The visualization of the clustered data.\")\n",
    "    ax2.set_xlabel(\"Feature space for the 1st feature\")\n",
    "    ax2.set_ylabel(\"Feature space for the 2nd feature\")\n",
    "\n",
    "    plt.suptitle((\"Silhouette analysis for KMeans clustering on sample data \"\n",
    "                  \"with n_clusters = %d\" % n_clusters),\n",
    "                 fontsize=14, fontweight='bold')\n",
    "\n",
    "plt.show()"
   ]
  },
  {
   "cell_type": "code",
   "execution_count": null,
   "metadata": {},
   "outputs": [],
   "source": [
    "from sklearn.cluster import AgglomerativeClustering\n",
    "clustering = AgglomerativeClustering(n_clusters=11, affinity='euclidean', linkage='ward')\n",
    "clustering.fit_predict(X)  "
   ]
  },
  {
   "cell_type": "code",
   "execution_count": null,
   "metadata": {},
   "outputs": [],
   "source": [
    "plt.figure(figsize=(20,10))\n",
    "plt.scatter(X[:,0],X[:,1], c=clustering.labels_, cmap='rainbow') "
   ]
  },
  {
   "cell_type": "code",
   "execution_count": null,
   "metadata": {},
   "outputs": [],
   "source": [
    "from scipy.cluster.hierarchy import dendrogram, linkage  \n",
    "\n",
    "linked = linkage(X, 'single')\n",
    "\n",
    "labelList = clustering.labels_#range(1, 10)\n",
    "\n",
    "plt.figure(figsize=(20,10))  \n",
    "dendrogram(linked,  \n",
    "            orientation='top',p=11,\n",
    "            labels=labelList,\n",
    "            distance_sort='descending',\n",
    "            show_leaf_counts=True)\n",
    "plt.show() "
   ]
  },
  {
   "cell_type": "code",
   "execution_count": null,
   "metadata": {},
   "outputs": [],
   "source": []
  },
  {
   "cell_type": "code",
   "execution_count": null,
   "metadata": {},
   "outputs": [],
   "source": [
    "# Number of clusters\n",
    "k = 9\n",
    "# X coordinates of random centroids\n",
    "C_x = np.random.randint(0, np.max(X)-20, size=k)\n",
    "# Y coordinates of random centroids\n",
    "C_y = np.random.randint(0, np.max(X)-20, size=k)\n",
    "C = np.array(list(zip(C_x, C_y)), dtype=np.float32)\n",
    "print(C)"
   ]
  },
  {
   "cell_type": "code",
   "execution_count": null,
   "metadata": {},
   "outputs": [],
   "source": [
    "# Plotting along with the Centroids\n",
    "plt.scatter(f1, f2, c='#050505', s=7)\n",
    "plt.scatter(C_x, C_y, marker='*', s=200, c='g')"
   ]
  },
  {
   "cell_type": "code",
   "execution_count": null,
   "metadata": {},
   "outputs": [],
   "source": [
    "# Number of clusters\n",
    "k = 13\n",
    "# X coordinates of random centroids\n",
    "C_x = np.random.randint(0, np.max(X)-20, size=k)\n",
    "# Y coordinates of random centroids\n",
    "C_y = np.random.randint(0, np.max(X)-20, size=k)\n",
    "C = np.array(list(zip(C_x, C_y)), dtype=np.float32)\n",
    "print(C)"
   ]
  },
  {
   "cell_type": "code",
   "execution_count": null,
   "metadata": {},
   "outputs": [],
   "source": [
    "# Plotting along with the Centroids\n",
    "plt.scatter(f1, f2, c='#050505', s=7)\n",
    "plt.scatter(C_x, C_y, marker='*', s=200, c='g')"
   ]
  },
  {
   "cell_type": "code",
   "execution_count": null,
   "metadata": {},
   "outputs": [],
   "source": [
    "# Number of clusters\n",
    "k = 15\n",
    "# X coordinates of random centroids\n",
    "C_x = np.random.randint(0, np.max(X)-20, size=k)\n",
    "# Y coordinates of random centroids\n",
    "C_y = np.random.randint(0, np.max(X)-20, size=k)\n",
    "C = np.array(list(zip(C_x, C_y)), dtype=np.float32)\n",
    "print(C)"
   ]
  },
  {
   "cell_type": "code",
   "execution_count": null,
   "metadata": {},
   "outputs": [],
   "source": [
    "# Plotting along with the Centroids\n",
    "plt.scatter(f1, f2, c='#050505', s=7)\n",
    "plt.scatter(C_x, C_y, marker='*', s=200, c='g')"
   ]
  },
  {
   "cell_type": "code",
   "execution_count": null,
   "metadata": {},
   "outputs": [],
   "source": [
    "# Number of clusters\n",
    "k = 17\n",
    "# X coordinates of random centroids\n",
    "C_x = np.random.randint(0, np.max(X)-20, size=k)\n",
    "# Y coordinates of random centroids\n",
    "C_y = np.random.randint(0, np.max(X)-20, size=k)\n",
    "C = np.array(list(zip(C_x, C_y)), dtype=np.float32)\n",
    "print(C)"
   ]
  },
  {
   "cell_type": "code",
   "execution_count": null,
   "metadata": {},
   "outputs": [],
   "source": [
    "# Plotting along with the Centroids\n",
    "plt.scatter(f1, f2, c='#050505', s=7)\n",
    "plt.scatter(C_x, C_y, marker='*', s=200, c='g')"
   ]
  },
  {
   "cell_type": "code",
   "execution_count": null,
   "metadata": {},
   "outputs": [],
   "source": [
    "# Number of clusters\n",
    "k = 19\n",
    "# X coordinates of random centroids\n",
    "C_x = np.random.randint(0, np.max(X)-20, size=k)\n",
    "# Y coordinates of random centroids\n",
    "C_y = np.random.randint(0, np.max(X)-20, size=k)\n",
    "C = np.array(list(zip(C_x, C_y)), dtype=np.float32)\n",
    "print(C)"
   ]
  },
  {
   "cell_type": "code",
   "execution_count": null,
   "metadata": {},
   "outputs": [],
   "source": [
    "# Plotting along with the Centroids\n",
    "plt.scatter(f1, f2, c='#050505', s=7)\n",
    "plt.scatter(C_x, C_y, marker='*', s=200, c='g')"
   ]
  },
  {
   "cell_type": "code",
   "execution_count": null,
   "metadata": {},
   "outputs": [],
   "source": []
  },
  {
   "cell_type": "code",
   "execution_count": null,
   "metadata": {},
   "outputs": [],
   "source": [
    "from sklearn.metrics import roc_curve, auc\n",
    "import pandas as pd\n",
    "import matplotlib as mpl\n",
    "import matplotlib.pyplot as plt\n",
    "import random\n",
    "import statsmodels.formula.api as smf\n",
    "import matplotlib.cm as cm\n",
    "from sklearn.cluster import KMeans\n",
    "import numpy as np\n",
    "import math\n",
    "from sklearn.metrics import silhouette_samples, silhouette_score\n",
    "\n",
    "path_to_file='C:/Users/kisha/Documents/Intelligent_Data_Analysis/Assignment_4/HW4GaussianClustersData.csv'\n",
    "data=pd.read_csv(path_to_file,  header=0)\n",
    "\n",
    "X=np.array(data)\n",
    "#print (X)\n",
    "kmeans_models = []\n",
    "\n",
    "def plot2dgrid(X):\n",
    "    plt.scatter(X[:,0], X[:,1], label='True Position') \n",
    "    plt.show();\n",
    "\n",
    "def plot2dgridClassify(X, kmeans):\n",
    "    plt.scatter(X[:,0], X[:,1], c=kmeans.labels_, cmap='rainbow')  \n",
    "    plt.show();\n",
    "\n",
    "def makeClusters(k):\n",
    "    kmeans = KMeans(n_clusters=k).fit(X);\n",
    "    #print(kmeans.centroid) \n",
    "    \n",
    "    #print(kmeans.label)\n",
    "\n",
    "    #plot2dgridClassify(X, kmeans);\n",
    "    kmeans_models.append(kmeans);\n",
    "    return kmeans;\n",
    "\n",
    "def plotSSE(x, y):\n",
    "    # plotting the points\n",
    "    plt.plot(x, y)\n",
    "\n",
    "    # naming the x axis\n",
    "    plt.xlabel('No of clusters')\n",
    "    # naming the y axis\n",
    "    plt.ylabel('SSE value')\n",
    "\n",
    "    # giving a title to my graph\n",
    "    plt.title('Graph showing SSE vs No of clusters')\n",
    "\n",
    "    # function to show the plot\n",
    "    plt.show()\n",
    "\n",
    "def plotBIC(x, y):\n",
    "    # plotting the points\n",
    "    plt.plot(x, y)\n",
    "\n",
    "    # naming the x axis\n",
    "    plt.xlabel('No of clusters')\n",
    "    # naming the y axis\n",
    "    plt.ylabel('BIC value')\n",
    "\n",
    "    # giving a title to my graph\n",
    "    plt.title('Graph showing BIC vs No of clusters')\n",
    "    \n",
    "    # function to show the plot\n",
    "    plt.show()\n",
    "\n",
    "\n",
    "def silhouette(n_clusters):\n",
    "    # Create a subplot with 1 row and 2 columns\n",
    "    fig, (ax1, ax2) = plt.subplots(1, 2)\n",
    "    fig.set_size_inches(18, 7)\n",
    "\n",
    "    ax1.set_xlim([-0.1, 1])\n",
    "    ax1.set_ylim([0, len(X) + (n_clusters + 1) * 10])\n",
    "\n",
    "    clusterer = KMeans(n_clusters=n_clusters, random_state=10)\n",
    "    cluster_labels = clusterer.fit_predict(X)\n",
    "\n",
    "    silhouette_avg = silhouette_score(X, cluster_labels)\n",
    "    print(\"For n_clusters =\", n_clusters,\n",
    "          \"The average silhouette_score is :\", silhouette_avg)\n",
    "\n",
    "      # Compute the silhouette scores for each sample\n",
    "    sample_silhouette_values = silhouette_samples(X, cluster_labels)\n",
    "\n",
    "\n",
    "\n",
    "    y_lower = 10\n",
    "    for i in range(n_clusters):\n",
    "        # Aggregate the silhouette scores for samples belonging to\n",
    "        # cluster i, and sort them\n",
    "        ith_cluster_silhouette_values = \\\n",
    "            sample_silhouette_values[cluster_labels == i]\n",
    "\n",
    "        ith_cluster_silhouette_values.sort()\n",
    "\n",
    "        size_cluster_i = ith_cluster_silhouette_values.shape[0]\n",
    "        y_upper = y_lower + size_cluster_i\n",
    "\n",
    "        color = cm.nipy_spectral(float(i) / n_clusters)\n",
    "        ax1.fill_betweenx(np.arange(y_lower, y_upper),\n",
    "                          0, ith_cluster_silhouette_values,\n",
    "                          facecolor=color, edgecolor=color, alpha=0.7)\n",
    "\n",
    "        # Label the silhouette plots with their cluster numbers at the middle\n",
    "        ax1.text(-0.05, y_lower + 0.5 * size_cluster_i, str(i))\n",
    "\n",
    "        # Compute the new y_lower for next plot\n",
    "        y_lower = y_upper + 10  # 10 for the 0 samples\n",
    "\n",
    "    \n",
    "    ax1.set_title(\"The silhouette plot for the various clusters.\")\n",
    "    ax1.set_xlabel(\"The silhouette coefficient values\")\n",
    "    ax1.set_ylabel(\"Cluster label\")\n",
    "\n",
    "    # The vertical line for average silhouette score of all the values\n",
    "    ax1.axvline(x=silhouette_avg, color=\"red\", linestyle=\"--\")\n",
    "\n",
    "    ax1.set_yticks([])  # Clear the yaxis labels / ticks\n",
    "    ax1.set_xticks([-0.1, 0, 0.2, 0.4, 0.6, 0.8, 1])\n",
    "\n",
    "    # 2nd Plot showing the actual clusters formed\n",
    "    colors = cm.nipy_spectral(cluster_labels.astype(float) / n_clusters)\n",
    "    ax2.scatter(X[:, 0], X[:, 1], marker='.', s=30, lw=0, alpha=0.7,\n",
    "                c=colors, edgecolor='k')\n",
    "\n",
    "    # Labeling the clusters\n",
    "    centers = clusterer.cluster_centers_\n",
    "    # Draw white circles at cluster centers\n",
    "    ax2.scatter(centers[:, 0], centers[:, 1], marker='o',\n",
    "                c=\"white\", alpha=1, s=200, edgecolor='k')\n",
    "\n",
    "    for i, c in enumerate(centers):\n",
    "        ax2.scatter(c[0], c[1], marker='$%d$' % i, alpha=1,\n",
    "                    s=50, edgecolor='k')\n",
    "\n",
    "    ax2.set_title(\"The visualization of the clustered data.\")\n",
    "    ax2.set_xlabel(\"Feature space for the 1st feature\")\n",
    "    ax2.set_ylabel(\"Feature space for the 2nd feature\")\n",
    "\n",
    "    plt.suptitle((\"Silhouette analysis for KMeans clustering on sample data \"\n",
    "                  \"with n_clusters = %d\" % n_clusters),\n",
    "                 fontsize=14, fontweight='bold')\n",
    "    plt.show()\n",
    "\n",
    "#plot2dgrid(X)\n",
    "\n",
    "cluster_no = [5, 7, 9, 11, 13, 15, 17, 19]\n",
    "sse = []\n",
    "for k in cluster_no:\n",
    "    kmeans = makeClusters(k);\n",
    "    sse.append(kmeans.inertia_);\n",
    "\n",
    "plotSSE(cluster_no, sse)\n",
    "\n",
    "\n",
    "n=X.shape[0];\n",
    "d=X.shape[1];\n",
    "print (n, d);\n",
    "\n",
    "\n",
    "bic=[]\n",
    "#print (len(cluster_no), len(sse))\n",
    "\n",
    "for c, SSE in zip(cluster_no, sse):\n",
    "    BIC = n*math.log(SSE/n) + math.log(n)*c*(d+1)\n",
    "    bic.append(BIC);\n",
    "\n",
    "plotBIC(cluster_no, bic)\n",
    "\n",
    "#2c\n",
    "best_index = len(cluster_no)-1\n",
    "plot2dgridClassify(X, kmeans_models[best_index])\n",
    "silhouette(cluster_no[best_index])\n"
   ]
  },
  {
   "cell_type": "markdown",
   "metadata": {},
   "source": [
    "##https://www.kaggle.com/andyxie/k-means-clustering-implementation-in-python"
   ]
  }
 ],
 "metadata": {
  "kernelspec": {
   "display_name": "Python 3",
   "language": "python",
   "name": "python3"
  },
  "language_info": {
   "codemirror_mode": {
    "name": "ipython",
    "version": 3
   },
   "file_extension": ".py",
   "mimetype": "text/x-python",
   "name": "python",
   "nbconvert_exporter": "python",
   "pygments_lexer": "ipython3",
   "version": "3.7.0"
  }
 },
 "nbformat": 4,
 "nbformat_minor": 2
}
